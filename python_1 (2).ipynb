{
  "nbformat": 4,
  "nbformat_minor": 0,
  "metadata": {
    "colab": {
      "provenance": []
    },
    "kernelspec": {
      "name": "python3",
      "display_name": "Python 3"
    },
    "language_info": {
      "name": "python"
    }
  },
  "cells": [
    {
      "cell_type": "code",
      "execution_count": null,
      "metadata": {
        "id": "zbVo-mR1DQze"
      },
      "outputs": [],
      "source": [
        "#Basics"
      ]
    },
    {
      "cell_type": "code",
      "source": [
        "#output\n",
        "print(\"Hello\")"
      ],
      "metadata": {
        "colab": {
          "base_uri": "https://localhost:8080/"
        },
        "id": "VUg8yRfkDgiL",
        "outputId": "5c4949a7-8608-43a1-b6b2-d85bde3152de"
      },
      "execution_count": null,
      "outputs": [
        {
          "output_type": "stream",
          "name": "stdout",
          "text": [
            "Hello\n"
          ]
        }
      ]
    },
    {
      "cell_type": "code",
      "source": [
        "#input\n",
        "x = input(\"Enter your name : \")\n",
        "print(x)"
      ],
      "metadata": {
        "colab": {
          "base_uri": "https://localhost:8080/"
        },
        "id": "wvns-U1-Dyu0",
        "outputId": "785bda57-4dc5-4b73-cb8d-08bc44acc244"
      },
      "execution_count": null,
      "outputs": [
        {
          "output_type": "stream",
          "name": "stdout",
          "text": [
            "Enter your name : Hamza\n",
            "Hamza\n"
          ]
        }
      ]
    },
    {
      "cell_type": "code",
      "source": [
        "#adding 2 variables\n",
        "a = 5\n",
        "b = 7\n",
        "c = a + b\n",
        "print(c)"
      ],
      "metadata": {
        "colab": {
          "base_uri": "https://localhost:8080/"
        },
        "id": "esgX8Yb-D6TP",
        "outputId": "f6b3e1ed-dfc1-453c-aff1-f6530a50e36a"
      },
      "execution_count": null,
      "outputs": [
        {
          "output_type": "stream",
          "name": "stdout",
          "text": [
            "12\n"
          ]
        }
      ]
    },
    {
      "cell_type": "code",
      "source": [
        "#taking specific variable type input\n",
        "x = float(input(\"Enter a 1st number : \"))\n",
        "y = float(input(\"enter a 2nd number : \"))\n",
        "m = x + y\n",
        "print(m)"
      ],
      "metadata": {
        "colab": {
          "base_uri": "https://localhost:8080/"
        },
        "id": "9bmN8z-MEbos",
        "outputId": "42c51f48-b5d0-4fd3-f9c6-ca4f05f322d9"
      },
      "execution_count": null,
      "outputs": [
        {
          "output_type": "stream",
          "name": "stdout",
          "text": [
            "Enter a 1st number : 7\n",
            "enter a 2nd number : 8\n",
            "15.0\n"
          ]
        }
      ]
    },
    {
      "cell_type": "code",
      "source": [
        "#conditional statemenet\n",
        "q = int(input(\"enter a 1st number : \"))\n",
        "w = int(input(\"enter a 2nd number : \"))\n",
        "if q> w :\n",
        "  print(\"1st number\",q,\" is the biggest\")\n",
        "elif q<w :\n",
        "  print(\"2nd number\",w,\" is the biggest\")\n",
        "else :\n",
        "  print(\"both are equal number please add diffrent number\")"
      ],
      "metadata": {
        "colab": {
          "base_uri": "https://localhost:8080/"
        },
        "id": "cFtnx79fGfw8",
        "outputId": "dbf25509-17f9-42ed-d09c-0b65fadf9d1e"
      },
      "execution_count": null,
      "outputs": [
        {
          "output_type": "stream",
          "name": "stdout",
          "text": [
            "enter a 1st number : 7\n",
            "enter a 2nd number : 8\n",
            "2nd number 8  is the biggest\n"
          ]
        }
      ]
    },
    {
      "cell_type": "code",
      "source": [
        "#List\n",
        "list1 = [8,5,2,9,1,6]\n",
        "print(list1)"
      ],
      "metadata": {
        "colab": {
          "base_uri": "https://localhost:8080/"
        },
        "id": "tuNKDhgXI4fY",
        "outputId": "0aeb8d91-13d7-4391-aa48-0c1652d15f86"
      },
      "execution_count": null,
      "outputs": [
        {
          "output_type": "stream",
          "name": "stdout",
          "text": [
            "[8, 5, 2, 9, 1, 6]\n"
          ]
        }
      ]
    },
    {
      "cell_type": "code",
      "source": [
        "#printing list using for loop\n",
        "for y in list1:\n",
        "  print(y)\n",
        "\n",
        "\n"
      ],
      "metadata": {
        "id": "RnmAD8EwKOyA",
        "colab": {
          "base_uri": "https://localhost:8080/"
        },
        "outputId": "cb03f164-4eac-49ef-c234-f7ca43ec130a"
      },
      "execution_count": null,
      "outputs": [
        {
          "output_type": "stream",
          "name": "stdout",
          "text": [
            "8\n",
            "5\n",
            "2\n",
            "9\n",
            "1\n",
            "6\n"
          ]
        }
      ]
    },
    {
      "cell_type": "code",
      "source": [
        "#for loop for accending oder * print\n",
        "for x in range(1,11):\n",
        " for z in range(x):\n",
        "  print(\"*\",end=\"\")\n",
        " print()"
      ],
      "metadata": {
        "colab": {
          "base_uri": "https://localhost:8080/"
        },
        "id": "iDjEmGKPMeBL",
        "outputId": "2abb3870-4157-46e3-8b77-a8b95740d49b"
      },
      "execution_count": null,
      "outputs": [
        {
          "output_type": "stream",
          "name": "stdout",
          "text": [
            "*\n",
            "**\n",
            "***\n",
            "****\n",
            "*****\n",
            "******\n",
            "*******\n",
            "********\n",
            "*********\n",
            "**********\n"
          ]
        }
      ]
    },
    {
      "cell_type": "code",
      "source": [
        "#for loop for even and odd number\n",
        "for x in range(0,11):\n",
        "  if x%2!=0:\n",
        "    print(x,\" : is odd number\")\n",
        "  elif x%2==0:\n",
        "    print(x,\" : is even number\")\n"
      ],
      "metadata": {
        "id": "ReKvBJoxV6Mh",
        "colab": {
          "base_uri": "https://localhost:8080/"
        },
        "outputId": "2a5438f9-89a5-41f0-a79d-9051c56f1983"
      },
      "execution_count": null,
      "outputs": [
        {
          "output_type": "stream",
          "name": "stdout",
          "text": [
            "0  : is even number\n",
            "1  : is odd number\n",
            "2  : is even number\n",
            "3  : is odd number\n",
            "4  : is even number\n",
            "5  : is odd number\n",
            "6  : is even number\n",
            "7  : is odd number\n",
            "8  : is even number\n",
            "9  : is odd number\n",
            "10  : is even number\n"
          ]
        }
      ]
    },
    {
      "cell_type": "code",
      "source": [
        "#for loop for calculating n number of sum\n",
        "n = int(input(\"enter a number bigger then 0 : \"))\n",
        "c = 0\n",
        "for x in  range(0,n):\n",
        "  c = c + x\n",
        "print(c)\n"
      ],
      "metadata": {
        "colab": {
          "base_uri": "https://localhost:8080/"
        },
        "id": "xDBX-c2ZK_up",
        "outputId": "785ef1cc-fa08-40c7-bd66-9a1ed59c267a"
      },
      "execution_count": null,
      "outputs": [
        {
          "output_type": "stream",
          "name": "stdout",
          "text": [
            "enter a number bigger then 0 : 11\n",
            "55\n"
          ]
        }
      ]
    },
    {
      "cell_type": "code",
      "source": [
        "#Function\n",
        "#A function have its varibale parameters inside function defeination () and function take argument as its input and give return value as output\n",
        "def name(x):\n",
        "  x = input(\"enter your name : \")\n",
        "  print(x)\n",
        "name(\"Hamza\")\n",
        "\n"
      ],
      "metadata": {
        "id": "zr4BIQuHMdsi",
        "colab": {
          "base_uri": "https://localhost:8080/"
        },
        "outputId": "303b1758-a56d-4cef-a75b-36ae8190ba16"
      },
      "execution_count": null,
      "outputs": [
        {
          "output_type": "stream",
          "name": "stdout",
          "text": [
            "enter your name : Hamza\n",
            "Hamza\n"
          ]
        }
      ]
    },
    {
      "cell_type": "code",
      "source": [
        "#function for adding 2 numbers and showing there results as output\n",
        "def add_numbers(a, b):\n",
        "    total = a + b\n",
        "    print(total)  # Prints the value of 'total'\n",
        "\n",
        "add_numbers(10, 15)"
      ],
      "metadata": {
        "colab": {
          "base_uri": "https://localhost:8080/"
        },
        "id": "WWIrncJLaXY7",
        "outputId": "7eaa3f04-d2b4-41b4-c6cd-06e5d9678a30"
      },
      "execution_count": null,
      "outputs": [
        {
          "output_type": "stream",
          "name": "stdout",
          "text": [
            "25\n"
          ]
        }
      ]
    },
    {
      "cell_type": "code",
      "source": [
        "#fucntion including return value\n",
        "def adding(z,x):\n",
        "  y = z + x\n",
        "  return y\n",
        "x = adding(30,16)\n",
        "x = x + 1\n",
        "print(x)\n",
        "#print(adding(30,17))\n"
      ],
      "metadata": {
        "colab": {
          "base_uri": "https://localhost:8080/"
        },
        "id": "8i66KNHpbfS-",
        "outputId": "db9e319e-19c1-46ee-9389-fed3d9be05ca"
      },
      "execution_count": null,
      "outputs": [
        {
          "output_type": "stream",
          "name": "stdout",
          "text": [
            "47\n"
          ]
        }
      ]
    },
    {
      "cell_type": "code",
      "source": [
        "#default parameter value function\n",
        "#Name varificatin function\n",
        "def name_vef(n,x=\" : your name has been varified\"):\n",
        "  print(n + x)\n",
        "h = input(\"enter your name : \")\n",
        "name_vef(h)\n",
        "\n"
      ],
      "metadata": {
        "colab": {
          "base_uri": "https://localhost:8080/"
        },
        "id": "xqn2m_eEdpre",
        "outputId": "b304cc46-66e5-407f-8207-eb7d584cbda1"
      },
      "execution_count": null,
      "outputs": [
        {
          "output_type": "stream",
          "name": "stdout",
          "text": [
            "enter your name : Hamza\n",
            "Hamza : your name has been varified\n"
          ]
        }
      ]
    },
    {
      "cell_type": "code",
      "source": [
        "#init function , other fundamentls , lamda finction , oop , dsa"
      ],
      "metadata": {
        "id": "wiI_5rujiDsn"
      },
      "execution_count": 1,
      "outputs": []
    },
    {
      "cell_type": "code",
      "source": [
        "#lamda functions\n",
        "#create a lamda function for calculating the current price of dollar to pkr\n",
        "v = lambda c: 282 * c\n",
        "print(v(100))"
      ],
      "metadata": {
        "colab": {
          "base_uri": "https://localhost:8080/"
        },
        "id": "h668xQ9bHndM",
        "outputId": "d03cb678-2ced-4c42-c17f-6213bf6fc4fb"
      },
      "execution_count": 3,
      "outputs": [
        {
          "output_type": "stream",
          "name": "stdout",
          "text": [
            "28200\n"
          ]
        }
      ]
    },
    {
      "cell_type": "code",
      "source": [],
      "metadata": {
        "id": "CyuiTeLHOgM2"
      },
      "execution_count": null,
      "outputs": []
    }
  ]
}